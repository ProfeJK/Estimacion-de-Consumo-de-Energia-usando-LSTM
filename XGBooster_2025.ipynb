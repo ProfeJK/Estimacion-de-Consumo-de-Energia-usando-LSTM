{
  "cells": [
    {
      "cell_type": "code",
      "execution_count": 1,
      "metadata": {},
      "outputs": [
        {
          "name": "stdout",
          "output_type": "stream",
          "text": [
            "d:\\2025\\Andes\\venv\\Scripts\\python.exe\n"
          ]
        }
      ],
      "source": [
        "import sys\n",
        "print(sys.executable)\n"
      ]
    },
    {
      "cell_type": "code",
      "execution_count": 2,
      "metadata": {
        "colab": {
          "base_uri": "https://localhost:8080/"
        },
        "id": "bylalOzpMEno",
        "outputId": "209d9cbd-8c4f-4dee-dd0c-3f834e87578e"
      },
      "outputs": [],
      "source": [
        "import xgboost as xgb"
      ]
    },
    {
      "cell_type": "code",
      "execution_count": 3,
      "metadata": {
        "id": "pEVIfsxtMxau"
      },
      "outputs": [],
      "source": [
        "import pandas as pd\n",
        "import numpy as np\n",
        "from sklearn.preprocessing import MinMaxScaler\n",
        "from sklearn.metrics import mean_squared_error, mean_absolute_error\n",
        "from math import sqrt\n",
        "import matplotlib.pyplot as plt"
      ]
    },
    {
      "cell_type": "code",
      "execution_count": 5,
      "metadata": {
        "id": "Mr8-N750M1Bk"
      },
      "outputs": [],
      "source": [
        "# 1. Cargar datos\n",
        "df_final = pd.read_csv('d:/2025/Andes/df_final.csv', index_col=0, parse_dates=True)"
      ]
    },
    {
      "cell_type": "code",
      "execution_count": 6,
      "metadata": {
        "id": "KAHZSaBvM3h_"
      },
      "outputs": [],
      "source": [
        "# 2. Escalar datos\n",
        "scaler = MinMaxScaler()\n",
        "dataset_norm = scaler.fit_transform(df_final.values)\n",
        "scaler_y = MinMaxScaler()\n",
        "y_norm = scaler_y.fit_transform(df_final[['price actual']].values)"
      ]
    },
    {
      "cell_type": "code",
      "execution_count": 7,
      "metadata": {
        "id": "uVLSke5cM7C3"
      },
      "outputs": [],
      "source": [
        "# 3. Separar features y target\n",
        "features = dataset_norm[:, :-1]\n",
        "target = dataset_norm[:, -1]"
      ]
    },
    {
      "cell_type": "code",
      "execution_count": 8,
      "metadata": {
        "id": "GUVOwyL5M84R"
      },
      "outputs": [],
      "source": [
        "# 4. Definir parámetros\n",
        "past_history = 168  # o 720 para predicción mensual\n",
        "future_target = 168  # una semana (7 días * 24 horas)\n",
        "step = 1"
      ]
    },
    {
      "cell_type": "code",
      "execution_count": 9,
      "metadata": {
        "id": "Fyhp65sANAxf"
      },
      "outputs": [],
      "source": [
        "# 5. Generar secuencias multivariadas\n",
        "def multivariate_data(dataset, target, start_index, end_index, history_size,\n",
        "                      target_size, step, single_step=False):\n",
        "    data = []\n",
        "    labels = []\n",
        "\n",
        "    start_index = start_index + history_size\n",
        "    if end_index is None:\n",
        "        end_index = len(dataset) - target_size\n",
        "\n",
        "    for i in range(start_index, end_index):\n",
        "        indices = range(i - history_size, i, step)\n",
        "        data.append(dataset[indices])\n",
        "\n",
        "        if single_step:\n",
        "            labels.append(target[i + target_size])\n",
        "        else:\n",
        "            labels.append(target[i : i + target_size])\n",
        "\n",
        "    return np.array(data), np.array(labels)"
      ]
    },
    {
      "cell_type": "code",
      "execution_count": 10,
      "metadata": {
        "id": "gKhdKFGeNDB9"
      },
      "outputs": [],
      "source": [
        "# 6. Aplicar función\n",
        "X_seq, y_seq = multivariate_data(features, target,\n",
        "                                 start_index=0,\n",
        "                                 end_index=None,\n",
        "                                 history_size=past_history,\n",
        "                                 target_size=future_target,\n",
        "                                 step=step,\n",
        "                                 single_step=False)"
      ]
    },
    {
      "cell_type": "code",
      "execution_count": 11,
      "metadata": {
        "id": "i1fPnuDcMviN"
      },
      "outputs": [],
      "source": [
        "# 7. Dividir en entrenamiento, validación y prueba\n",
        "split1 = int(len(X_seq) * 0.7)\n",
        "split2 = int(len(X_seq) * 0.9)\n",
        "X_train, y_train = X_seq[:split1], y_seq[:split1]\n",
        "X_val, y_val = X_seq[split1:split2], y_seq[split1:split2]\n",
        "X_test, y_test = X_seq[split2:], y_seq[split2:]"
      ]
    },
    {
      "cell_type": "code",
      "execution_count": 12,
      "metadata": {
        "id": "ZAPE_xzbMMZ2"
      },
      "outputs": [],
      "source": [
        "X_train_xgb = X_train.reshape(-1, X_train.shape[1] * X_train.shape[2])\n",
        "X_val_xgb = X_val.reshape(-1, X_val.shape[1] * X_val.shape[2])\n",
        "X_test_xgb = X_test.reshape(-1, X_test.shape[1] * X_test.shape[2])"
      ]
    },
    {
      "cell_type": "code",
      "execution_count": null,
      "metadata": {
        "id": "6GUdmgZrMNMo"
      },
      "outputs": [],
      "source": [
        "param = {'eta': 0.02, 'max_depth': 100,\n",
        "         'subsample': 1.0, 'colsample_bytree': 0.95,\n",
        "         'alpha': 0.1, 'lambda': 0.15, 'gamma': 0.1,\n",
        "         'objective': 'reg:linear', 'eval_metric': 'rmse',\n",
        "         'verbosity': 0, 'min_child_weight': 0.1, 'n_jobs': -1}\n",
        "\n",
        "dtrain = xgb.DMatrix(X_train_xgb, y_train)\n",
        "dval = xgb.DMatrix(X_val_xgb, y_val)\n",
        "dtest = xgb.DMatrix(X_test_xgb, y_test)\n",
        "\n",
        "eval_list = [(dtrain, 'train'), (dval, 'eval')]\n",
        "xgb_model = xgb.train(param, dtrain, num_boost_round=100, evals=eval_list, early_stopping_rounds=5)"
      ]
    },
    {
      "cell_type": "code",
      "execution_count": null,
      "metadata": {
        "id": "nDSp7gzNOwRb"
      },
      "outputs": [],
      "source": [
        "# Create and fit scaler_y before scaling y_test\n",
        "scaler_y = MinMaxScaler()\n",
        "# Assuming y_train is your training data for the target variable\n",
        "scaler_y.fit(y_train.reshape(-1, 1))"
      ]
    },
    {
      "cell_type": "code",
      "execution_count": null,
      "metadata": {
        "id": "SxMLyMNyNWLT"
      },
      "outputs": [],
      "source": [
        "y_test_inv = scaler_y.inverse_transform(y_test.reshape(-1, 1))\n",
        "xgb_forecast = xgb_model.predict(dtest).reshape(-1, 1)\n",
        "xgb_forecast_inv = scaler_y.inverse_transform(xgb_forecast)\n",
        "\n",
        "# Métricas de evaluación\n",
        "rmse_xgb = sqrt(mean_squared_error(y_test_inv, xgb_forecast_inv))\n",
        "print(f'RMSE del forecast XGBoost (una hora adelante): {rmse_xgb:.3f}')"
      ]
    },
    {
      "cell_type": "code",
      "execution_count": null,
      "metadata": {
        "id": "jAkPyJKs8Gws"
      },
      "outputs": [],
      "source": [
        "# Visualización de las primeras 100 predicciones\n",
        "index_range = range(100)\n",
        "plt.figure(figsize=(10, 6))\n",
        "plt.plot(index_range, y_test_inv[index_range], label='Valores Reales', marker='.', color='blue')\n",
        "plt.plot(index_range, xgb_forecast_inv[index_range], label='Predicciones XGBoost', marker='x', color='red')\n",
        "plt.title('Valores Reales vs Predicciones XGBoost (100 primeros)')\n",
        "plt.xlabel('Tiempo')\n",
        "plt.ylabel('Precio')\n",
        "plt.legend()\n",
        "plt.grid(True)\n",
        "plt.show()"
      ]
    },
    {
      "cell_type": "code",
      "execution_count": null,
      "metadata": {
        "id": "MwrxtYeI8QLP"
      },
      "outputs": [],
      "source": [
        "# Predicciones futuras (100 pasos)\n",
        "#last_date = df_final['time'].max() #'time' is not a column anymore\n",
        "last_date = df_final.index.max()  # Accessing the maximum value of the index\n",
        "future_dates = [last_date + pd.Timedelta(hours=i) for i in range(1, 101)]\n",
        "\n",
        "predictions_df = pd.DataFrame({\n",
        "    'DATETIME': future_dates,\n",
        "    'Predicted_Price': xgb_forecast_inv.flatten()[:100]\n",
        "})\n",
        "\n",
        "plt.figure(figsize=(15, 6))\n",
        "#plt.plot(df_final['time'], df_final['price actual'], label='Histórico Precio', color='blue') #'time' is not a column anymore\n",
        "plt.plot(df_final.index, df_final['price actual'], label='Histórico Precio', color='blue') #using the index instead of the column name\n",
        "plt.plot(predictions_df['DATETIME'], predictions_df['Predicted_Price'], label='Predicción (100 horas)', color='red', linestyle='--')\n",
        "plt.xlabel('Fecha')\n",
        "plt.ylabel('Precio')\n",
        "plt.title('Precio Real vs Predicción XGBoost para las próximas 100 horas')\n",
        "plt.legend()\n",
        "plt.grid(True)\n",
        "plt.show()"
      ]
    },
    {
      "cell_type": "code",
      "execution_count": null,
      "metadata": {
        "id": "9H2ZWEOj86BZ"
      },
      "outputs": [],
      "source": [
        "# Flatten input for XGBoost (tabular format)\n",
        "X_train_xgb = X_train_seq.reshape(-1, past_history * X_train_seq.shape[2])\n",
        "X_val_xgb = X_val_seq.reshape(-1, past_history * X_val_seq.shape[2])\n",
        "X_test_xgb = X_test_seq.reshape(-1, past_history * X_test_seq.shape[2])\n",
        "\n",
        "# Flatten targets (each row is 168-step ahead targets)\n",
        "y_train_xgb = y_train_seq\n",
        "y_val_xgb = y_val_seq\n",
        "y_test_xgb = y_test_seq"
      ]
    },
    {
      "cell_type": "code",
      "execution_count": null,
      "metadata": {
        "id": "95Cs1a_W8_Mh"
      },
      "outputs": [],
      "source": [
        "# Entrenamos un modelo por cada paso futuro (1 a 168)\n",
        "xgb_models = []\n",
        "xgb_preds = []\n",
        "\n",
        "for i in range(future_target):\n",
        "    dtrain = xgb.DMatrix(X_train_xgb, label=y_train_xgb[:, i])\n",
        "    dval = xgb.DMatrix(X_val_xgb, label=y_val_xgb[:, i])\n",
        "    dtest = xgb.DMatrix(X_test_xgb)\n",
        "\n",
        "    param = {\n",
        "        'eta': 0.03, 'max_depth': 8,\n",
        "        'subsample': 0.8, 'colsample_bytree': 0.8,\n",
        "        'alpha': 0.1, 'lambda': 0.15, 'gamma': 0.1,\n",
        "        'objective': 'reg:squarederror', 'eval_metric': 'rmse',\n",
        "        'n_jobs': -1, 'verbosity': 0\n",
        "    }\n",
        "\n",
        "    eval_list = [(dtrain, 'train'), (dval, 'eval')]\n",
        "\n",
        "    model = xgb.train(param, dtrain, num_boost_round=100, evals=eval_list, early_stopping_rounds=5, verbose_eval=False)\n",
        "    preds = model.predict(dtest)\n",
        "\n",
        "    xgb_models.append(model)\n",
        "    xgb_preds.append(preds)"
      ]
    },
    {
      "cell_type": "code",
      "execution_count": null,
      "metadata": {
        "id": "v9xzwrkp9EAC"
      },
      "outputs": [],
      "source": [
        "# Convertir predicciones a array 2D: (n_samples, 168)\n",
        "xgb_preds = np.stack(xgb_preds, axis=1)\n",
        "\n",
        "# Invertir la escala\n",
        "xgb_preds_inv = scaler_y.inverse_transform(xgb_preds)\n",
        "y_test_inv = scaler_y.inverse_transform(y_test_xgb)"
      ]
    },
    {
      "cell_type": "code",
      "execution_count": null,
      "metadata": {
        "id": "lDj8pmW79PCu"
      },
      "outputs": [],
      "source": [
        "# Métricas\n",
        "rmse = sqrt(mean_squared_error(y_test_inv.flatten(), xgb_preds_inv.flatten()))\n",
        "mae = mean_absolute_error(y_test_inv.flatten(), xgb_preds_inv.flatten())\n",
        "print(f\"XGBoost Multistep RMSE: {rmse:.4f}, MAE: {mae:.4f}\")"
      ]
    },
    {
      "cell_type": "code",
      "execution_count": null,
      "metadata": {
        "id": "B9XGZPyi9SWE"
      },
      "outputs": [],
      "source": [
        "# --- Gráfico completo ---\n",
        "plt.figure(figsize=(14, 6))\n",
        "plt.plot(y_test_inv[0], label='Real', color='lightblue', linewidth=2)\n",
        "plt.plot(xgb_preds_inv[0], label='Predicción XGBoost (168 pasos)', color='black', linestyle='--', linewidth=2)\n",
        "plt.title('Predicción XGBoost - Primer ejemplo multistep')\n",
        "plt.xlabel('Horas Futuras')\n",
        "plt.ylabel('Precio')\n",
        "plt.legend()\n",
        "plt.grid(True)\n",
        "plt.tight_layout()\n",
        "plt.show()"
      ]
    },
    {
      "cell_type": "code",
      "execution_count": null,
      "metadata": {
        "id": "yUClOF089USe"
      },
      "outputs": [],
      "source": [
        "# --- Gráfico con zoom en el último mes (si disponible) ---\n",
        "hist_len = 720  # 30 días\n",
        "\n",
        "plt.figure(figsize=(14, 6))\n",
        "plt.plot(range(hist_len), y_test_inv[0][-hist_len:], label='Histórico reciente', color='lightgray')\n",
        "plt.plot(range(hist_len, hist_len + future_target), xgb_preds_inv[0], label='Predicción', color='black')\n",
        "plt.title('Zoom: Histórico reciente + 7 días predicción XGBoost')\n",
        "plt.xlabel('Horas')\n",
        "plt.ylabel('Precio')\n",
        "plt.legend()\n",
        "plt.grid(True)\n",
        "plt.tight_layout()\n",
        "plt.show()"
      ]
    }
  ],
  "metadata": {
    "colab": {
      "provenance": []
    },
    "kernelspec": {
      "display_name": "venv",
      "language": "python",
      "name": "python3"
    },
    "language_info": {
      "codemirror_mode": {
        "name": "ipython",
        "version": 3
      },
      "file_extension": ".py",
      "mimetype": "text/x-python",
      "name": "python",
      "nbconvert_exporter": "python",
      "pygments_lexer": "ipython3",
      "version": "3.10.11"
    }
  },
  "nbformat": 4,
  "nbformat_minor": 0
}
